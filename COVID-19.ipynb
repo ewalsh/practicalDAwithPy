{
 "cells": [
  {
   "cell_type": "markdown",
   "metadata": {},
   "source": [
    "# Some Covid-19 Analysis"
   ]
  },
  {
   "cell_type": "code",
   "execution_count": 3,
   "metadata": {},
   "outputs": [],
   "source": [
    "import pandas as pd\n",
    "import numpy as np\n",
    "import matplotlib.pyplot as plt \n",
    "%matplotlib inline"
   ]
  },
  {
   "cell_type": "code",
   "execution_count": 4,
   "metadata": {},
   "outputs": [
    {
     "data": {
      "text/html": [
       "<div>\n",
       "<style scoped>\n",
       "    .dataframe tbody tr th:only-of-type {\n",
       "        vertical-align: middle;\n",
       "    }\n",
       "\n",
       "    .dataframe tbody tr th {\n",
       "        vertical-align: top;\n",
       "    }\n",
       "\n",
       "    .dataframe thead th {\n",
       "        text-align: right;\n",
       "    }\n",
       "</style>\n",
       "<table border=\"1\" class=\"dataframe\">\n",
       "  <thead>\n",
       "    <tr style=\"text-align: right;\">\n",
       "      <th></th>\n",
       "      <th>Date</th>\n",
       "      <th>Country_Region</th>\n",
       "      <th>Province_State</th>\n",
       "      <th>Difference</th>\n",
       "      <th>Prep_Flow_Runtime</th>\n",
       "      <th>Latest_Date</th>\n",
       "      <th>Case_Type</th>\n",
       "      <th>Cases</th>\n",
       "      <th>Lat</th>\n",
       "      <th>Long</th>\n",
       "    </tr>\n",
       "  </thead>\n",
       "  <tbody>\n",
       "    <tr>\n",
       "      <th>0</th>\n",
       "      <td>3/9/2020</td>\n",
       "      <td>India</td>\n",
       "      <td>NaN</td>\n",
       "      <td>0</td>\n",
       "      <td>3/24/2020 9:39:03 AM</td>\n",
       "      <td>3/23/2020</td>\n",
       "      <td>Deaths</td>\n",
       "      <td>0</td>\n",
       "      <td>21.0</td>\n",
       "      <td>78.0</td>\n",
       "    </tr>\n",
       "    <tr>\n",
       "      <th>1</th>\n",
       "      <td>3/8/2020</td>\n",
       "      <td>India</td>\n",
       "      <td>NaN</td>\n",
       "      <td>0</td>\n",
       "      <td>3/24/2020 9:39:03 AM</td>\n",
       "      <td>3/23/2020</td>\n",
       "      <td>Deaths</td>\n",
       "      <td>0</td>\n",
       "      <td>21.0</td>\n",
       "      <td>78.0</td>\n",
       "    </tr>\n",
       "    <tr>\n",
       "      <th>2</th>\n",
       "      <td>3/7/2020</td>\n",
       "      <td>India</td>\n",
       "      <td>NaN</td>\n",
       "      <td>0</td>\n",
       "      <td>3/24/2020 9:39:03 AM</td>\n",
       "      <td>3/23/2020</td>\n",
       "      <td>Deaths</td>\n",
       "      <td>0</td>\n",
       "      <td>21.0</td>\n",
       "      <td>78.0</td>\n",
       "    </tr>\n",
       "    <tr>\n",
       "      <th>3</th>\n",
       "      <td>3/6/2020</td>\n",
       "      <td>India</td>\n",
       "      <td>NaN</td>\n",
       "      <td>0</td>\n",
       "      <td>3/24/2020 9:39:03 AM</td>\n",
       "      <td>3/23/2020</td>\n",
       "      <td>Deaths</td>\n",
       "      <td>0</td>\n",
       "      <td>21.0</td>\n",
       "      <td>78.0</td>\n",
       "    </tr>\n",
       "    <tr>\n",
       "      <th>4</th>\n",
       "      <td>3/5/2020</td>\n",
       "      <td>India</td>\n",
       "      <td>NaN</td>\n",
       "      <td>0</td>\n",
       "      <td>3/24/2020 9:39:03 AM</td>\n",
       "      <td>3/23/2020</td>\n",
       "      <td>Deaths</td>\n",
       "      <td>0</td>\n",
       "      <td>21.0</td>\n",
       "      <td>78.0</td>\n",
       "    </tr>\n",
       "  </tbody>\n",
       "</table>\n",
       "</div>"
      ],
      "text/plain": [
       "       Date Country_Region Province_State  Difference     Prep_Flow_Runtime  \\\n",
       "0  3/9/2020          India            NaN           0  3/24/2020 9:39:03 AM   \n",
       "1  3/8/2020          India            NaN           0  3/24/2020 9:39:03 AM   \n",
       "2  3/7/2020          India            NaN           0  3/24/2020 9:39:03 AM   \n",
       "3  3/6/2020          India            NaN           0  3/24/2020 9:39:03 AM   \n",
       "4  3/5/2020          India            NaN           0  3/24/2020 9:39:03 AM   \n",
       "\n",
       "  Latest_Date Case_Type  Cases   Lat  Long  \n",
       "0   3/23/2020    Deaths      0  21.0  78.0  \n",
       "1   3/23/2020    Deaths      0  21.0  78.0  \n",
       "2   3/23/2020    Deaths      0  21.0  78.0  \n",
       "3   3/23/2020    Deaths      0  21.0  78.0  \n",
       "4   3/23/2020    Deaths      0  21.0  78.0  "
      ]
     },
     "execution_count": 4,
     "metadata": {},
     "output_type": "execute_result"
    }
   ],
   "source": [
    "covid_df = pd.read_csv(\"./data/COVID-19 Cases.csv\", header=0)\n",
    "covid_df.head()"
   ]
  },
  {
   "cell_type": "code",
   "execution_count": 5,
   "metadata": {},
   "outputs": [
    {
     "name": "stdout",
     "output_type": "stream",
     "text": [
      "<class 'pandas.core.frame.DataFrame'>\n",
      "RangeIndex: 35502 entries, 0 to 35501\n",
      "Data columns (total 10 columns):\n",
      " #   Column             Non-Null Count  Dtype  \n",
      "---  ------             --------------  -----  \n",
      " 0   Date               35502 non-null  object \n",
      " 1   Country_Region     35502 non-null  object \n",
      " 2   Province_State     15616 non-null  object \n",
      " 3   Difference         35502 non-null  int64  \n",
      " 4   Prep_Flow_Runtime  35502 non-null  object \n",
      " 5   Latest_Date        35502 non-null  object \n",
      " 6   Case_Type          35502 non-null  object \n",
      " 7   Cases              35502 non-null  int64  \n",
      " 8   Lat                35136 non-null  float64\n",
      " 9   Long               35136 non-null  float64\n",
      "dtypes: float64(2), int64(2), object(6)\n",
      "memory usage: 2.7+ MB\n"
     ]
    }
   ],
   "source": [
    "covid_df.info()"
   ]
  },
  {
   "cell_type": "code",
   "execution_count": 10,
   "metadata": {},
   "outputs": [
    {
     "data": {
      "text/html": [
       "<div>\n",
       "<style scoped>\n",
       "    .dataframe tbody tr th:only-of-type {\n",
       "        vertical-align: middle;\n",
       "    }\n",
       "\n",
       "    .dataframe tbody tr th {\n",
       "        vertical-align: top;\n",
       "    }\n",
       "\n",
       "    .dataframe thead th {\n",
       "        text-align: right;\n",
       "    }\n",
       "</style>\n",
       "<table border=\"1\" class=\"dataframe\">\n",
       "  <thead>\n",
       "    <tr style=\"text-align: right;\">\n",
       "      <th></th>\n",
       "      <th>Date</th>\n",
       "      <th>Country_Region</th>\n",
       "      <th>Province_State</th>\n",
       "      <th>Difference</th>\n",
       "      <th>Prep_Flow_Runtime</th>\n",
       "      <th>Latest_Date</th>\n",
       "      <th>Case_Type</th>\n",
       "      <th>Cases</th>\n",
       "      <th>Lat</th>\n",
       "      <th>Long</th>\n",
       "    </tr>\n",
       "  </thead>\n",
       "  <tbody>\n",
       "    <tr>\n",
       "      <th>28975</th>\n",
       "      <td>3/9/2020</td>\n",
       "      <td>Italy</td>\n",
       "      <td>NaN</td>\n",
       "      <td>1797</td>\n",
       "      <td>3/24/2020 9:39:03 AM</td>\n",
       "      <td>3/23/2020</td>\n",
       "      <td>Confirmed</td>\n",
       "      <td>9172</td>\n",
       "      <td>43.0</td>\n",
       "      <td>12.0</td>\n",
       "    </tr>\n",
       "    <tr>\n",
       "      <th>28976</th>\n",
       "      <td>3/8/2020</td>\n",
       "      <td>Italy</td>\n",
       "      <td>NaN</td>\n",
       "      <td>1492</td>\n",
       "      <td>3/24/2020 9:39:03 AM</td>\n",
       "      <td>3/23/2020</td>\n",
       "      <td>Confirmed</td>\n",
       "      <td>7375</td>\n",
       "      <td>43.0</td>\n",
       "      <td>12.0</td>\n",
       "    </tr>\n",
       "    <tr>\n",
       "      <th>28977</th>\n",
       "      <td>3/7/2020</td>\n",
       "      <td>Italy</td>\n",
       "      <td>NaN</td>\n",
       "      <td>1247</td>\n",
       "      <td>3/24/2020 9:39:03 AM</td>\n",
       "      <td>3/23/2020</td>\n",
       "      <td>Confirmed</td>\n",
       "      <td>5883</td>\n",
       "      <td>43.0</td>\n",
       "      <td>12.0</td>\n",
       "    </tr>\n",
       "    <tr>\n",
       "      <th>28978</th>\n",
       "      <td>3/6/2020</td>\n",
       "      <td>Italy</td>\n",
       "      <td>NaN</td>\n",
       "      <td>778</td>\n",
       "      <td>3/24/2020 9:39:03 AM</td>\n",
       "      <td>3/23/2020</td>\n",
       "      <td>Confirmed</td>\n",
       "      <td>4636</td>\n",
       "      <td>43.0</td>\n",
       "      <td>12.0</td>\n",
       "    </tr>\n",
       "    <tr>\n",
       "      <th>28979</th>\n",
       "      <td>3/5/2020</td>\n",
       "      <td>Italy</td>\n",
       "      <td>NaN</td>\n",
       "      <td>769</td>\n",
       "      <td>3/24/2020 9:39:03 AM</td>\n",
       "      <td>3/23/2020</td>\n",
       "      <td>Confirmed</td>\n",
       "      <td>3858</td>\n",
       "      <td>43.0</td>\n",
       "      <td>12.0</td>\n",
       "    </tr>\n",
       "  </tbody>\n",
       "</table>\n",
       "</div>"
      ],
      "text/plain": [
       "           Date Country_Region Province_State  Difference  \\\n",
       "28975  3/9/2020          Italy            NaN        1797   \n",
       "28976  3/8/2020          Italy            NaN        1492   \n",
       "28977  3/7/2020          Italy            NaN        1247   \n",
       "28978  3/6/2020          Italy            NaN         778   \n",
       "28979  3/5/2020          Italy            NaN         769   \n",
       "\n",
       "          Prep_Flow_Runtime Latest_Date  Case_Type  Cases   Lat  Long  \n",
       "28975  3/24/2020 9:39:03 AM   3/23/2020  Confirmed   9172  43.0  12.0  \n",
       "28976  3/24/2020 9:39:03 AM   3/23/2020  Confirmed   7375  43.0  12.0  \n",
       "28977  3/24/2020 9:39:03 AM   3/23/2020  Confirmed   5883  43.0  12.0  \n",
       "28978  3/24/2020 9:39:03 AM   3/23/2020  Confirmed   4636  43.0  12.0  \n",
       "28979  3/24/2020 9:39:03 AM   3/23/2020  Confirmed   3858  43.0  12.0  "
      ]
     },
     "execution_count": 10,
     "metadata": {},
     "output_type": "execute_result"
    }
   ],
   "source": [
    "res = covid_df[(covid_df.Difference > 0) & (covid_df.Case_Type == 'Confirmed') &\n",
    "        (covid_df.Country_Region == 'Italy')]\n",
    "res.head()"
   ]
  },
  {
   "cell_type": "code",
   "execution_count": 16,
   "metadata": {},
   "outputs": [
    {
     "data": {
      "text/plain": [
       "array([[<matplotlib.axes._subplots.AxesSubplot object at 0x7fa6fd0ea438>]],\n",
       "      dtype=object)"
      ]
     },
     "execution_count": 16,
     "metadata": {},
     "output_type": "execute_result"
    },
    {
     "data": {
      "image/png": "[encoded data removed]",
      "text/plain": [
       "<Figure size 432x288 with 1 Axes>"
      ]
     },
     "metadata": {
      "needs_background": "light"
     },
     "output_type": "display_data"
    }
   ],
   "source": [
    "res.sort_values(by='Cases', ascending=False).hist(column='Difference')b"
   ]
  },
  {
   "cell_type": "code",
   "execution_count": 17,
   "metadata": {},
   "outputs": [
    {
     "data": {
      "text/plain": [
       "count      33.000000\n",
       "mean     1937.181818\n",
       "std      2132.965299\n",
       "min         1.000000\n",
       "25%       202.000000\n",
       "50%       778.000000\n",
       "75%      3526.000000\n",
       "max      6557.000000\n",
       "Name: Difference, dtype: float64"
      ]
     },
     "execution_count": 17,
     "metadata": {},
     "output_type": "execute_result"
    }
   ],
   "source": [
    "res['Difference'].describe()"
   ]
  },
  {
   "cell_type": "code",
   "execution_count": 18,
   "metadata": {
    "scrolled": true
   },
   "outputs": [
    {
     "data": {
      "text/html": [
       "<div>\n",
       "<style scoped>\n",
       "    .dataframe tbody tr th:only-of-type {\n",
       "        vertical-align: middle;\n",
       "    }\n",
       "\n",
       "    .dataframe tbody tr th {\n",
       "        vertical-align: top;\n",
       "    }\n",
       "\n",
       "    .dataframe thead th {\n",
       "        text-align: right;\n",
       "    }\n",
       "</style>\n",
       "<table border=\"1\" class=\"dataframe\">\n",
       "  <thead>\n",
       "    <tr style=\"text-align: right;\">\n",
       "      <th></th>\n",
       "      <th>Date</th>\n",
       "      <th>Country_Region</th>\n",
       "      <th>Province_State</th>\n",
       "      <th>Difference</th>\n",
       "      <th>Prep_Flow_Runtime</th>\n",
       "      <th>Latest_Date</th>\n",
       "      <th>Case_Type</th>\n",
       "      <th>Cases</th>\n",
       "      <th>Lat</th>\n",
       "      <th>Long</th>\n",
       "    </tr>\n",
       "  </thead>\n",
       "  <tbody>\n",
       "    <tr>\n",
       "      <th>20191</th>\n",
       "      <td>3/9/2020</td>\n",
       "      <td>Germany</td>\n",
       "      <td>NaN</td>\n",
       "      <td>136</td>\n",
       "      <td>3/24/2020 9:39:03 AM</td>\n",
       "      <td>3/23/2020</td>\n",
       "      <td>Confirmed</td>\n",
       "      <td>1176</td>\n",
       "      <td>51.0</td>\n",
       "      <td>9.0</td>\n",
       "    </tr>\n",
       "    <tr>\n",
       "      <th>20192</th>\n",
       "      <td>3/8/2020</td>\n",
       "      <td>Germany</td>\n",
       "      <td>NaN</td>\n",
       "      <td>241</td>\n",
       "      <td>3/24/2020 9:39:03 AM</td>\n",
       "      <td>3/23/2020</td>\n",
       "      <td>Confirmed</td>\n",
       "      <td>1040</td>\n",
       "      <td>51.0</td>\n",
       "      <td>9.0</td>\n",
       "    </tr>\n",
       "    <tr>\n",
       "      <th>20193</th>\n",
       "      <td>3/7/2020</td>\n",
       "      <td>Germany</td>\n",
       "      <td>NaN</td>\n",
       "      <td>129</td>\n",
       "      <td>3/24/2020 9:39:03 AM</td>\n",
       "      <td>3/23/2020</td>\n",
       "      <td>Confirmed</td>\n",
       "      <td>799</td>\n",
       "      <td>51.0</td>\n",
       "      <td>9.0</td>\n",
       "    </tr>\n",
       "    <tr>\n",
       "      <th>20194</th>\n",
       "      <td>3/6/2020</td>\n",
       "      <td>Germany</td>\n",
       "      <td>NaN</td>\n",
       "      <td>188</td>\n",
       "      <td>3/24/2020 9:39:03 AM</td>\n",
       "      <td>3/23/2020</td>\n",
       "      <td>Confirmed</td>\n",
       "      <td>670</td>\n",
       "      <td>51.0</td>\n",
       "      <td>9.0</td>\n",
       "    </tr>\n",
       "    <tr>\n",
       "      <th>20195</th>\n",
       "      <td>3/5/2020</td>\n",
       "      <td>Germany</td>\n",
       "      <td>NaN</td>\n",
       "      <td>220</td>\n",
       "      <td>3/24/2020 9:39:03 AM</td>\n",
       "      <td>3/23/2020</td>\n",
       "      <td>Confirmed</td>\n",
       "      <td>482</td>\n",
       "      <td>51.0</td>\n",
       "      <td>9.0</td>\n",
       "    </tr>\n",
       "  </tbody>\n",
       "</table>\n",
       "</div>"
      ],
      "text/plain": [
       "           Date Country_Region Province_State  Difference  \\\n",
       "20191  3/9/2020        Germany            NaN         136   \n",
       "20192  3/8/2020        Germany            NaN         241   \n",
       "20193  3/7/2020        Germany            NaN         129   \n",
       "20194  3/6/2020        Germany            NaN         188   \n",
       "20195  3/5/2020        Germany            NaN         220   \n",
       "\n",
       "          Prep_Flow_Runtime Latest_Date  Case_Type  Cases   Lat  Long  \n",
       "20191  3/24/2020 9:39:03 AM   3/23/2020  Confirmed   1176  51.0   9.0  \n",
       "20192  3/24/2020 9:39:03 AM   3/23/2020  Confirmed   1040  51.0   9.0  \n",
       "20193  3/24/2020 9:39:03 AM   3/23/2020  Confirmed    799  51.0   9.0  \n",
       "20194  3/24/2020 9:39:03 AM   3/23/2020  Confirmed    670  51.0   9.0  \n",
       "20195  3/24/2020 9:39:03 AM   3/23/2020  Confirmed    482  51.0   9.0  "
      ]
     },
     "execution_count": 18,
     "metadata": {},
     "output_type": "execute_result"
    }
   ],
   "source": [
    "res1 = covid_df[(covid_df.Difference > 0) & (covid_df.Case_Type == 'Confirmed') &\n",
    "               ((covid_df.Country_Region == 'Italy') | (covid_df.Country_Region == 'Spain') |\n",
    "               (covid_df.Country_Region == 'Germany'))]\n",
    "res1.head()"
   ]
  },
  {
   "cell_type": "code",
   "execution_count": 21,
   "metadata": {
    "scrolled": true
   },
   "outputs": [
    {
     "data": {
      "text/plain": [
       "<matplotlib.axes._subplots.AxesSubplot at 0x7fa6fcf01ef0>"
      ]
     },
     "execution_count": 21,
     "metadata": {},
     "output_type": "execute_result"
    },
    {
     "data": {
      "image/png": "[encoded data removed]",
      "text/plain": [
       "<Figure size 720x504 with 1 Axes>"
      ]
     },
     "metadata": {
      "needs_background": "light"
     },
     "output_type": "display_data"
    }
   ],
   "source": [
    "res1.boxplot(by='Country_Region', column=['Difference'], grid=False, \n",
    "             figsize=[10,7])"
   ]
  },
  {
   "cell_type": "code",
   "execution_count": 23,
   "metadata": {},
   "outputs": [
    {
     "data": {
      "text/html": [
       "<div>\n",
       "<style scoped>\n",
       "    .dataframe tbody tr th:only-of-type {\n",
       "        vertical-align: middle;\n",
       "    }\n",
       "\n",
       "    .dataframe tbody tr th {\n",
       "        vertical-align: top;\n",
       "    }\n",
       "\n",
       "    .dataframe thead th {\n",
       "        text-align: right;\n",
       "    }\n",
       "</style>\n",
       "<table border=\"1\" class=\"dataframe\">\n",
       "  <thead>\n",
       "    <tr style=\"text-align: right;\">\n",
       "      <th></th>\n",
       "      <th>Date</th>\n",
       "      <th>Country_Region</th>\n",
       "      <th>Province_State</th>\n",
       "      <th>Difference</th>\n",
       "      <th>Prep_Flow_Runtime</th>\n",
       "      <th>Latest_Date</th>\n",
       "      <th>Case_Type</th>\n",
       "      <th>Cases</th>\n",
       "      <th>Lat</th>\n",
       "      <th>Long</th>\n",
       "    </tr>\n",
       "  </thead>\n",
       "  <tbody>\n",
       "    <tr>\n",
       "      <th>20191</th>\n",
       "      <td>3/9/2020</td>\n",
       "      <td>Germany</td>\n",
       "      <td>NaN</td>\n",
       "      <td>136</td>\n",
       "      <td>3/24/2020 9:39:03 AM</td>\n",
       "      <td>3/23/2020</td>\n",
       "      <td>Confirmed</td>\n",
       "      <td>1176</td>\n",
       "      <td>51.0</td>\n",
       "      <td>9.0</td>\n",
       "    </tr>\n",
       "    <tr>\n",
       "      <th>20192</th>\n",
       "      <td>3/8/2020</td>\n",
       "      <td>Germany</td>\n",
       "      <td>NaN</td>\n",
       "      <td>241</td>\n",
       "      <td>3/24/2020 9:39:03 AM</td>\n",
       "      <td>3/23/2020</td>\n",
       "      <td>Confirmed</td>\n",
       "      <td>1040</td>\n",
       "      <td>51.0</td>\n",
       "      <td>9.0</td>\n",
       "    </tr>\n",
       "    <tr>\n",
       "      <th>20193</th>\n",
       "      <td>3/7/2020</td>\n",
       "      <td>Germany</td>\n",
       "      <td>NaN</td>\n",
       "      <td>129</td>\n",
       "      <td>3/24/2020 9:39:03 AM</td>\n",
       "      <td>3/23/2020</td>\n",
       "      <td>Confirmed</td>\n",
       "      <td>799</td>\n",
       "      <td>51.0</td>\n",
       "      <td>9.0</td>\n",
       "    </tr>\n",
       "    <tr>\n",
       "      <th>20194</th>\n",
       "      <td>3/6/2020</td>\n",
       "      <td>Germany</td>\n",
       "      <td>NaN</td>\n",
       "      <td>188</td>\n",
       "      <td>3/24/2020 9:39:03 AM</td>\n",
       "      <td>3/23/2020</td>\n",
       "      <td>Confirmed</td>\n",
       "      <td>670</td>\n",
       "      <td>51.0</td>\n",
       "      <td>9.0</td>\n",
       "    </tr>\n",
       "    <tr>\n",
       "      <th>20195</th>\n",
       "      <td>3/5/2020</td>\n",
       "      <td>Germany</td>\n",
       "      <td>NaN</td>\n",
       "      <td>220</td>\n",
       "      <td>3/24/2020 9:39:03 AM</td>\n",
       "      <td>3/23/2020</td>\n",
       "      <td>Confirmed</td>\n",
       "      <td>482</td>\n",
       "      <td>51.0</td>\n",
       "      <td>9.0</td>\n",
       "    </tr>\n",
       "  </tbody>\n",
       "</table>\n",
       "</div>"
      ],
      "text/plain": [
       "           Date Country_Region Province_State  Difference  \\\n",
       "20191  3/9/2020        Germany            NaN         136   \n",
       "20192  3/8/2020        Germany            NaN         241   \n",
       "20193  3/7/2020        Germany            NaN         129   \n",
       "20194  3/6/2020        Germany            NaN         188   \n",
       "20195  3/5/2020        Germany            NaN         220   \n",
       "\n",
       "          Prep_Flow_Runtime Latest_Date  Case_Type  Cases   Lat  Long  \n",
       "20191  3/24/2020 9:39:03 AM   3/23/2020  Confirmed   1176  51.0   9.0  \n",
       "20192  3/24/2020 9:39:03 AM   3/23/2020  Confirmed   1040  51.0   9.0  \n",
       "20193  3/24/2020 9:39:03 AM   3/23/2020  Confirmed    799  51.0   9.0  \n",
       "20194  3/24/2020 9:39:03 AM   3/23/2020  Confirmed    670  51.0   9.0  \n",
       "20195  3/24/2020 9:39:03 AM   3/23/2020  Confirmed    482  51.0   9.0  "
      ]
     },
     "execution_count": 23,
     "metadata": {},
     "output_type": "execute_result"
    }
   ],
   "source": [
    "df_de = covid_df[(covid_df.Case_Type == 'Confirmed') & (covid_df.Country_Region == 'Germany')]\n",
    "df_de.head()"
   ]
  },
  {
   "cell_type": "code",
   "execution_count": 24,
   "metadata": {},
   "outputs": [
    {
     "data": {
      "text/html": [
       "<div>\n",
       "<style scoped>\n",
       "    .dataframe tbody tr th:only-of-type {\n",
       "        vertical-align: middle;\n",
       "    }\n",
       "\n",
       "    .dataframe tbody tr th {\n",
       "        vertical-align: top;\n",
       "    }\n",
       "\n",
       "    .dataframe thead th {\n",
       "        text-align: right;\n",
       "    }\n",
       "</style>\n",
       "<table border=\"1\" class=\"dataframe\">\n",
       "  <thead>\n",
       "    <tr style=\"text-align: right;\">\n",
       "      <th></th>\n",
       "      <th>Date</th>\n",
       "      <th>Country_Region</th>\n",
       "      <th>Province_State</th>\n",
       "      <th>Difference</th>\n",
       "      <th>Prep_Flow_Runtime</th>\n",
       "      <th>Latest_Date</th>\n",
       "      <th>Case_Type</th>\n",
       "      <th>Cases</th>\n",
       "      <th>Lat</th>\n",
       "      <th>Long</th>\n",
       "    </tr>\n",
       "  </thead>\n",
       "  <tbody>\n",
       "    <tr>\n",
       "      <th>28975</th>\n",
       "      <td>3/9/2020</td>\n",
       "      <td>Italy</td>\n",
       "      <td>NaN</td>\n",
       "      <td>1797</td>\n",
       "      <td>3/24/2020 9:39:03 AM</td>\n",
       "      <td>3/23/2020</td>\n",
       "      <td>Confirmed</td>\n",
       "      <td>9172</td>\n",
       "      <td>43.0</td>\n",
       "      <td>12.0</td>\n",
       "    </tr>\n",
       "    <tr>\n",
       "      <th>28976</th>\n",
       "      <td>3/8/2020</td>\n",
       "      <td>Italy</td>\n",
       "      <td>NaN</td>\n",
       "      <td>1492</td>\n",
       "      <td>3/24/2020 9:39:03 AM</td>\n",
       "      <td>3/23/2020</td>\n",
       "      <td>Confirmed</td>\n",
       "      <td>7375</td>\n",
       "      <td>43.0</td>\n",
       "      <td>12.0</td>\n",
       "    </tr>\n",
       "    <tr>\n",
       "      <th>28977</th>\n",
       "      <td>3/7/2020</td>\n",
       "      <td>Italy</td>\n",
       "      <td>NaN</td>\n",
       "      <td>1247</td>\n",
       "      <td>3/24/2020 9:39:03 AM</td>\n",
       "      <td>3/23/2020</td>\n",
       "      <td>Confirmed</td>\n",
       "      <td>5883</td>\n",
       "      <td>43.0</td>\n",
       "      <td>12.0</td>\n",
       "    </tr>\n",
       "    <tr>\n",
       "      <th>28978</th>\n",
       "      <td>3/6/2020</td>\n",
       "      <td>Italy</td>\n",
       "      <td>NaN</td>\n",
       "      <td>778</td>\n",
       "      <td>3/24/2020 9:39:03 AM</td>\n",
       "      <td>3/23/2020</td>\n",
       "      <td>Confirmed</td>\n",
       "      <td>4636</td>\n",
       "      <td>43.0</td>\n",
       "      <td>12.0</td>\n",
       "    </tr>\n",
       "    <tr>\n",
       "      <th>28979</th>\n",
       "      <td>3/5/2020</td>\n",
       "      <td>Italy</td>\n",
       "      <td>NaN</td>\n",
       "      <td>769</td>\n",
       "      <td>3/24/2020 9:39:03 AM</td>\n",
       "      <td>3/23/2020</td>\n",
       "      <td>Confirmed</td>\n",
       "      <td>3858</td>\n",
       "      <td>43.0</td>\n",
       "      <td>12.0</td>\n",
       "    </tr>\n",
       "  </tbody>\n",
       "</table>\n",
       "</div>"
      ],
      "text/plain": [
       "           Date Country_Region Province_State  Difference  \\\n",
       "28975  3/9/2020          Italy            NaN        1797   \n",
       "28976  3/8/2020          Italy            NaN        1492   \n",
       "28977  3/7/2020          Italy            NaN        1247   \n",
       "28978  3/6/2020          Italy            NaN         778   \n",
       "28979  3/5/2020          Italy            NaN         769   \n",
       "\n",
       "          Prep_Flow_Runtime Latest_Date  Case_Type  Cases   Lat  Long  \n",
       "28975  3/24/2020 9:39:03 AM   3/23/2020  Confirmed   9172  43.0  12.0  \n",
       "28976  3/24/2020 9:39:03 AM   3/23/2020  Confirmed   7375  43.0  12.0  \n",
       "28977  3/24/2020 9:39:03 AM   3/23/2020  Confirmed   5883  43.0  12.0  \n",
       "28978  3/24/2020 9:39:03 AM   3/23/2020  Confirmed   4636  43.0  12.0  \n",
       "28979  3/24/2020 9:39:03 AM   3/23/2020  Confirmed   3858  43.0  12.0  "
      ]
     },
     "execution_count": 24,
     "metadata": {},
     "output_type": "execute_result"
    }
   ],
   "source": [
    "df_it = covid_df[(covid_df.Case_Type == 'Confirmed') & (covid_df.Country_Region == 'Italy')]\n",
    "df_it.head()"
   ]
  },
  {
   "cell_type": "code",
   "execution_count": 34,
   "metadata": {},
   "outputs": [
    {
     "data": {
      "text/plain": [
       "Text(0, 0.5, 'Italy Cases')"
      ]
     },
     "execution_count": 34,
     "metadata": {},
     "output_type": "execute_result"
    },
    {
     "data": {
      "image/png": "[encoded data removed]",
      "text/plain": [
       "<Figure size 432x288 with 1 Axes>"
      ]
     },
     "metadata": {
      "needs_background": "light"
     },
     "output_type": "display_data"
    }
   ],
   "source": [
    "plt.scatter(df_de['Cases'], df_it['Cases'])\n",
    "plt.title(\"# of Cases\")\n",
    "plt.xlabel('Germany Cases')\n",
    "plt.ylabel('Italy Cases')"
   ]
  }
 ],
 "metadata": {
  "kernelspec": {
   "display_name": "Python 3",
   "language": "python",
   "name": "python3"
  },
  "language_info": {
   "codemirror_mode": {
    "name": "ipython",
    "version": 3
   },
   "file_extension": ".py",
   "mimetype": "text/x-python",
   "name": "python",
   "nbconvert_exporter": "python",
   "pygments_lexer": "ipython3",
   "version": "3.6.9"
  }
 },
 "nbformat": 4,
 "nbformat_minor": 4
}
